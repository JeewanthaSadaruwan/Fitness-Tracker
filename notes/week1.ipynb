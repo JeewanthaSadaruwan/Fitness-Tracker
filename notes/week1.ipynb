{
 "cells": [
  {
   "cell_type": "markdown",
   "id": "296677ea",
   "metadata": {},
   "source": [
    "# Part 1 — Introduction\n",
    "\n",
    "## Who is this for\n",
    "- Level: beginner to intermediate\n",
    "- People learning data science and machine learning\n",
    "- People that want to learn how to process and analyze sensor data\n",
    "\n",
    "## Goal\n",
    "Create Python scripts to process, visualize, and model accelerometer and gyroscope data to create a machine learning model that can classify barbell exercises and count repetitions.\n",
    "\n",
    "## Introduction\n",
    "- Project from Master Artificial Intelligence (Vrije Universiteit Amsterdam)\n",
    "- Course — Machine Learning for the Quantified Self (Mark Hoogendoorn)\n",
    "- Book — [Machine Learning for the Quantified Self](https://link.springer.com/book/10.1007/978-3-319-66308-1)\n",
    "- Website — [ml4qs.org](https://ml4qs.org)\n",
    "- MetaMotion Sensor — [mbientlab.com/metamotions/](https://mbientlab.com/metamotions/)\n",
    "- Data — collected during gym workouts (by me) where participants (5 total) were performing various barbell exercises\n",
    "- Original source code: https://github.com/mhoogen/ML4QS/\n",
    "- Code for this project — will not be available via GitHub\n",
    "\n",
    "## The quantified self\n",
    "The quantified self is any individual engaged in the self-tracking of any kind of biological, physical, behavioral, or environmental information. The self-tracking is driven by a certain goal of the individual, with a desire to act upon the collected information — Hoogendoorn, M., & Funk, B. (2018). Machine learning for the quantified self. On the art of learning from sensory data.\n",
    "\n",
    "## Project overview (what you will learn)\n",
    "- Part 1 — Introduction, goal, quantified self, MetaMotion sensor, dataset\n",
    "- Part 2 — Converting raw data, reading CSV files, splitting data, cleaning\n",
    "- Part 3 — Visualizing data, plotting time series data\n",
    "- Part 4 — Outlier detection, Chauvenet’s criterion, local outlier factor\n",
    "- Part 5 — Feature engineering, frequency, low pass filter, PCA, clustering\n",
    "- Part 6 — Predictive modelling, Naive Bayes, SVMs, random forest, neural network\n",
    "- Part 7 — Counting repetitions, creating a custom algorithm\n",
    "\n",
    "---\n",
    "\n",
    "## Barbell Exercise Classification and Repetition Counting\n",
    "\n",
    "In this project, the main goal is to categorize and detect repetitions for each exercise type. The exercise types considered are barbell exercises, specifically:\n",
    "\n",
    "- Bench Press\n",
    "- Barbell Row\n",
    "- Squat\n",
    "- Deadlift\n",
    "- Overhead Press\n",
    "\n",
    "For each workout session, the system will:\n",
    "- Detect which barbell exercise is being performed\n",
    "- Count the number of repetitions for each exercise\n",
    "\n",
    "This will be achieved by processing sensor data, extracting features, building machine learning models, and developing custom algorithms for repetition counting."
   ]
  },
  {
   "cell_type": "markdown",
   "id": "a74310e0",
   "metadata": {},
   "source": []
  }
 ],
 "metadata": {
  "language_info": {
   "name": "python"
  }
 },
 "nbformat": 4,
 "nbformat_minor": 5
}
